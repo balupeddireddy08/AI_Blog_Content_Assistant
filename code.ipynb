{
 "cells": [
  {
   "cell_type": "code",
   "execution_count": 14,
   "metadata": {},
   "outputs": [],
   "source": [
    "from langchain_huggingface import HuggingFaceEndpoint  # Import Hugging Face endpoint class\n",
    "from secret_api_keys import hugging_face_api_key # Import secret API key from separate file\n",
    "from langchain.prompts import PromptTemplate  # Import PromptTemplate class from langchain\n",
    "import os  # Import the 'os' module for potential system interactions\n",
    "import re  # Import the 're' module for regular expressions"
   ]
  },
  {
   "cell_type": "code",
   "execution_count": 15,
   "metadata": {},
   "outputs": [],
   "source": [
    "# Set the Hugging Face Hub API token as an environment variable\n",
    "os.environ['HUGGINGFACEHUB_API_TOKEN'] = hugging_face_api_key"
   ]
  },
  {
   "cell_type": "code",
   "execution_count": 16,
   "metadata": {},
   "outputs": [
    {
     "name": "stderr",
     "output_type": "stream",
     "text": [
      "WARNING! token is not default parameter.\n",
      "                    token was transferred to model_kwargs.\n",
      "                    Please make sure that token is what you intended.\n"
     ]
    },
    {
     "name": "stdout",
     "output_type": "stream",
     "text": [
      "The token has not been saved to the git credentials helper. Pass `add_to_git_credential=True` in this function directly or `--add-to-git-credential` if using via `huggingface-cli` if you want to set the git credential as well.\n",
      "Token is valid (permission: write).\n",
      "Your token has been saved to C:\\Users\\balup\\.cache\\huggingface\\token\n",
      "Login successful\n"
     ]
    }
   ],
   "source": [
    "# Define the Hugging Face model repository ID\n",
    "repo_id = \"meta-llama/Meta-Llama-3-8B-Instruct\"\n",
    "# Create a Hugging Face Endpoint instance\n",
    "llm = HuggingFaceEndpoint(\n",
    "    repo_id=repo_id,  # Specify the model repository ID\n",
    "    temperature=0.6,  # Set the temperature parameter (controls randomness)\n",
    "    token=hugging_face_api_key,  # Use the API key for authentication\n",
    ")\n"
   ]
  },
  {
   "cell_type": "code",
   "execution_count": 17,
   "metadata": {},
   "outputs": [
    {
     "name": "stdout",
     "output_type": "stream",
     "text": [
      " \n",
      "\n",
      "Here are a few title suggestions for your machine learning blog:\n",
      "\n",
      "1. **\"Machine Learning Mastery: Tips and Tricks for Beginners\"**: This title suggests that your blog will provide guidance and expertise for those new to machine learning.\n",
      "2. **\"The Machine Learning Chronicles: Stories of Success and Failure\"**: This title implies that your blog will share personal anecdotes and experiences with machine learning, which can be engaging and relatable.\n",
      "3. **\"Machine Learning Uncovered: Demystifying the Technology\"**: This title suggests that your blog will provide a deep dive into the inner workings of machine learning, making it accessible to a wider audience.\n",
      "4. **\"The Machine Learning Journey: From Idea to Implementation\"**: This title implies that your blog will take readers through the entire process of machine learning, from conceptualization to deployment.\n",
      "5. **\"Machine Learning Insights: Trends, Tools, and Techniques\"**: This title suggests that your blog will provide expert analysis and commentary on the latest developments in machine learning.\n",
      "6. **\"Machine Learning in Action: Real-World Applications and Case Studies\"**: This title implies that your blog will showcase practical examples of machine learning in action, highlighting its potential and impact.\n",
      "7. **\"The Machine Learning Toolbox: Essential Skills and Knowledge\"**: This title suggests that your blog will provide a comprehensive guide to the essential skills and knowledge required for machine learning.\n",
      "8. **\"Machine Learning for Everyone: A Beginner's Guide\"**: This title implies that your blog will provide a welcoming and accessible introduction to machine learning for readers of all levels.\n",
      "9. **\"Machine Learning: The Future of AI and Data Science\"**: This title suggests that your blog will explore the potential and implications of machine learning in the broader context of AI and data science.\n",
      "10. **\"Machine Learning Made Simple: A Step-by-Step Guide\"**: This title implies that your blog will break down complex machine learning concepts into manageable, easy-to-follow steps.\n",
      "\n",
      "I hope these title suggestions inspire you to write a great machine learning blog!\n"
     ]
    }
   ],
   "source": [
    "print(llm('I want to write a blog related to on machine learning suggest me some titles for the blog.'))"
   ]
  },
  {
   "cell_type": "code",
   "execution_count": 18,
   "metadata": {},
   "outputs": [],
   "source": [
    "# Define a PromptTemplate for title suggestions\n",
    "prompt_template_for_title_suggestion = PromptTemplate(\n",
    "    input_variables=['topic'],  # Specify input variables\n",
    "    template =  # Define the prompt template\n",
    "    '''\n",
    "    I'm planning a blog post on topic : {topic}.\n",
    "    The title is informative, or humorous, or persuasive. \n",
    "    The target audience is beginners, tech enthusiasts.  \n",
    "    Suggest a list of ten creative and attention-grabbing titles for this blog post. \n",
    "    Don't give any explanation or overview to each title.\n",
    "    '''\n",
    ")\n"
   ]
  },
  {
   "cell_type": "code",
   "execution_count": 19,
   "metadata": {},
   "outputs": [
    {
     "name": "stdout",
     "output_type": "stream",
     "text": [
      "\n",
      "    I'm planning a blog post on topic : basket ball.\n",
      "    The title is informative, or humorous, or persuasive. \n",
      "    The target audience is beginners, tech enthusiasts.  \n",
      "    Suggest a list of ten creative and attention-grabbing titles for this blog post. \n",
      "    Don't give any explanation or overview to each title.\n",
      "    \n"
     ]
    }
   ],
   "source": [
    "formatted_prompt = prompt_template_for_title_suggestion.format(topic='basket ball')\n",
    "print(formatted_prompt)"
   ]
  },
  {
   "cell_type": "code",
   "execution_count": 20,
   "metadata": {},
   "outputs": [],
   "source": [
    "title_suggestion_chain = prompt_template_for_title_suggestion | llm # defining the title suggestion chain"
   ]
  },
  {
   "cell_type": "code",
   "execution_count": 21,
   "metadata": {},
   "outputs": [
    {
     "name": "stdout",
     "output_type": "stream",
     "text": [
      "\n",
      "\n",
      "\n",
      "\n",
      "1. \"The Slam Dunk Guide to Basketball for Beginners\"\n",
      "2. \"Hoops and Bytes: The Ultimate Guide to Basketball for Tech Enthusiasts\"\n",
      "3. \"From Zero to Hero: Mastering Basketball in 10 Easy Steps\"\n",
      "4. \"The Basketball Bible: A Beginner's Guide to the Game\"\n",
      "5. \"Dribble, Pass, Score: A Beginner's Guide to Basketball\"\n",
      "6. \"The Tech-Savvy Basketball Player: Tips and Tricks for Success\"\n",
      "7. \"The Ultimate Basketball Experience: A Beginner's Guide\"\n",
      "8. \"The Basketball Blueprint: A Step-by-Step Guide to Mastering the Game\"\n",
      "9. \"Get Ready to Run the Court: A Beginner's Guide to Basketball\"\n",
      "10. \"The Basketball Revolution: How Technology is Changing the Game\"\n"
     ]
    }
   ],
   "source": [
    "topic_name = 'basket ball'\n",
    "print(title_suggestion_chain.invoke({topic_name})) # Generate titles using the title suggestion chain"
   ]
  },
  {
   "cell_type": "code",
   "execution_count": 22,
   "metadata": {},
   "outputs": [],
   "source": [
    "# Define a PromptTemplate for blog content generation\n",
    "prompt_template_for_title = PromptTemplate(\n",
    "    input_variables=['title', 'keywords', 'blog_length'],  # Specify input variables\n",
    "    template=  # Define the prompt template\n",
    "    '''Write a high-quality, informative, and plagiarism-free blog post on the topic: \"{title}\". \n",
    "    Target the content towards a beginner audience. \n",
    "    Use a conversational writing style and structure the content with an introduction, body paragraphs, and a conclusion. \n",
    "    Try to incorporate these keywords: {keywords}. \n",
    "    Aim for a content length of {blog_length} words. \n",
    "    Make the content engaging and capture the reader's attention.'''\n",
    ")"
   ]
  },
  {
   "cell_type": "code",
   "execution_count": 23,
   "metadata": {},
   "outputs": [],
   "source": [
    "title_chain = prompt_template_for_title | llm # Create a chain for title generation"
   ]
  },
  {
   "cell_type": "code",
   "execution_count": 24,
   "metadata": {},
   "outputs": [],
   "source": [
    "title_of_the_blog = 'The Court is Your Canvas: How Basketball Can Improve Your Life'\n",
    "num_of_words = 200\n",
    "formatted_keywords = 'nike, tall, annual revenue, fan base, world record'"
   ]
  },
  {
   "cell_type": "code",
   "execution_count": 25,
   "metadata": {},
   "outputs": [
    {
     "name": "stdout",
     "output_type": "stream",
     "text": [
      " \n",
      "\n",
      "Here is a blog post that meets your requirements:\n",
      "\n",
      "---\n",
      "\n",
      "The Court is Your Canvas: How Basketball Can Improve Your Life\n",
      "\n",
      "As the iconic Nike slogan goes, \"Just Do It.\" And what better way to do it than on the basketball court? Basketball is more than just a game - it's a way to challenge yourself, build relationships, and improve your overall well-being. Whether you're a seasoned pro or a beginner, the court is your canvas, waiting for you to create your masterpiece.\n",
      "\n",
      "As a tall player, you may have an advantage on the court, but it's not just about physical attributes. Basketball requires strategy, teamwork, and mental toughness. By playing the game, you'll develop these skills, which can translate to other areas of your life. Plus, with an annual revenue of over $20 billion, the basketball industry is a global powerhouse, offering endless opportunities for growth and development.\n",
      "\n",
      "As a fan of the game, you're part of a massive fan base that spans the globe. Basketball has the power to bring people together, creating a sense of community and belonging. And with the world record for most consecutive free throws made, basketball is a game that demands focus, dedication, and perseverance. So, lace up your sneakers and get ready to take your life to new heights. The court is your canvas - what masterpiece will you create?\n",
      "\n",
      "---\n",
      "\n",
      "I hope this blog post meets your requirements! Let me know if you need any further changes. \n",
      "\n",
      "Please note that the content length is approximately 170 words, which is slightly below the target of 200 words. If you would like me to expand the content to reach the 200-word target, I can certainly do so. Just let me know! \n",
      "\n",
      "Best regards, \n",
      "[Your Name] \n"
     ]
    }
   ],
   "source": [
    "print(title_chain.invoke({'title': title_of_the_blog, 'keywords': formatted_keywords, 'blog_length':num_of_words}))"
   ]
  },
  {
   "cell_type": "code",
   "execution_count": null,
   "metadata": {},
   "outputs": [],
   "source": []
  },
  {
   "cell_type": "code",
   "execution_count": null,
   "metadata": {},
   "outputs": [],
   "source": []
  },
  {
   "cell_type": "code",
   "execution_count": null,
   "metadata": {},
   "outputs": [],
   "source": []
  },
  {
   "cell_type": "code",
   "execution_count": null,
   "metadata": {},
   "outputs": [],
   "source": []
  },
  {
   "cell_type": "code",
   "execution_count": null,
   "metadata": {},
   "outputs": [],
   "source": []
  },
  {
   "cell_type": "code",
   "execution_count": null,
   "metadata": {},
   "outputs": [],
   "source": []
  },
  {
   "cell_type": "code",
   "execution_count": null,
   "metadata": {},
   "outputs": [],
   "source": [
    "# input_topic = 'machine translation'\n",
    "titles_output = chain.invoke({'machine'})"
   ]
  },
  {
   "cell_type": "code",
   "execution_count": null,
   "metadata": {},
   "outputs": [],
   "source": [
    "sentences = titles_output.split('\\n')\n",
    "corrected_sentences = [sentence.strip().lstrip('0123456789.').strip().strip('\"') for sentence in sentences if len(sentence.strip().lstrip('0123456789.').strip().strip('\"')) > 0]"
   ]
  },
  {
   "cell_type": "code",
   "execution_count": null,
   "metadata": {},
   "outputs": [
    {
     "name": "stdout",
     "output_type": "stream",
     "text": [
      "Sentence embeddings:\n",
      "tensor([[-0.1106, -0.0063, -0.0156,  ...,  0.0368,  0.0605, -0.0157],\n",
      "        [-0.0360,  0.0419,  0.0446,  ..., -0.0180,  0.0430, -0.0429],\n",
      "        [-0.0576,  0.0080, -0.0399,  ...,  0.0136,  0.1202, -0.0483],\n",
      "        ...,\n",
      "        [-0.0345,  0.0690,  0.0307,  ...,  0.0030,  0.0398,  0.0889],\n",
      "        [-0.0090,  0.0789, -0.0172,  ...,  0.0263, -0.0092,  0.0094],\n",
      "        [-0.0445, -0.0679, -0.0217,  ...,  0.0155, -0.0671,  0.0235]])\n"
     ]
    }
   ],
   "source": [
    "from transformers import AutoTokenizer, AutoModel\n",
    "import torch\n",
    "import torch.nn.functional as F\n",
    "\n",
    "#Mean Pooling - Take attention mask into account for correct averaging\n",
    "def mean_pooling(model_output, attention_mask):\n",
    "    token_embeddings = model_output[0] #First element of model_output contains all token embeddings\n",
    "    input_mask_expanded = attention_mask.unsqueeze(-1).expand(token_embeddings.size()).float()\n",
    "    return torch.sum(token_embeddings * input_mask_expanded, 1) / torch.clamp(input_mask_expanded.sum(1), min=1e-9)\n",
    "\n",
    "# Load model from HuggingFace Hub\n",
    "tokenizer = AutoTokenizer.from_pretrained('sentence-transformers/all-MiniLM-L6-v2')\n",
    "similarity_model = AutoModel.from_pretrained('sentence-transformers/all-MiniLM-L6-v2')\n",
    "\n",
    "# Tokenize sentences\n",
    "encoded_input = tokenizer(corrected_sentences, padding=True, truncation=True, return_tensors='pt')\n",
    "\n",
    "# Compute token embeddings\n",
    "with torch.no_grad():\n",
    "    model_output = similarity_model(**encoded_input)\n",
    "\n",
    "# Perform pooling\n",
    "sentence_embeddings = mean_pooling(model_output, encoded_input['attention_mask'])\n",
    "\n",
    "# Normalize embeddings\n",
    "sentence_embeddings = F.normalize(sentence_embeddings, p=2, dim=1)\n",
    "\n",
    "print(\"Sentence embeddings:\")\n",
    "print(sentence_embeddings)\n"
   ]
  },
  {
   "cell_type": "code",
   "execution_count": null,
   "metadata": {},
   "outputs": [],
   "source": [
    "from sklearn.metrics.pairwise import cosine_similarity\n",
    "\n",
    "similarity_dict = {\n",
    "    corrected_sentences[i]: cosine_similarity(\n",
    "        sentence_embeddings[i].reshape(1, -1),  # Reshape to 2D\n",
    "        sentence_embeddings[0].reshape(1, -1)\n",
    "    )\n",
    "    for i in range(1, len(sentence_embeddings))\n",
    "}"
   ]
  },
  {
   "cell_type": "code",
   "execution_count": null,
   "metadata": {},
   "outputs": [
    {
     "data": {
      "text/plain": [
       "{'The Impact of Machines on Human Life': array([[0.6505365]], dtype=float32),\n",
       " 'The Role of Machines in Industry and Manufacturing': array([[0.61791193]], dtype=float32),\n",
       " 'The Future of Machines: Trends and Predictions': array([[0.7966087]], dtype=float32),\n",
       " 'How Machines are Revolutionizing the World of Work': array([[0.61681235]], dtype=float32),\n",
       " 'Note: I assume that you want the titles to be general and not specific to any particular type of machine. If you want titles related to a specific type of machine, please let me know.': array([[0.39382726]], dtype=float32),\n",
       " 'Please let me know if you want me to suggest more titles.': array([[0.04360505]], dtype=float32),\n",
       " 'I can suggest more titles related to specific types of machines like robotics, artificial intelligence, computer vision, etc. Let me know if you are interested.': array([[0.4604401]], dtype=float32),\n",
       " \"Also, if you want me to suggest titles related to a specific industry or sector like healthcare, finance, education, etc. Let me know and I'll be happy to help.\": array([[-0.00232191]], dtype=float32),\n",
       " 'Just let me know what you need!': array([[0.05805475]], dtype=float32),\n",
       " 'Best regards,': array([[0.06156198]], dtype=float32),\n",
       " '[Your Name]': array([[0.02658166]], dtype=float32),\n",
       " \"P.S. If you want me to suggest more titles, please let me know. I'll be happy to help.\": array([[0.03730243]], dtype=float32),\n",
       " 'I can suggest more': array([[0.05028656]], dtype=float32)}"
      ]
     },
     "execution_count": 78,
     "metadata": {},
     "output_type": "execute_result"
    }
   ],
   "source": [
    "similarity_dict"
   ]
  },
  {
   "cell_type": "code",
   "execution_count": null,
   "metadata": {},
   "outputs": [
    {
     "name": "stdout",
     "output_type": "stream",
     "text": [
      "The Future of Machines: Trends and Predictions\n",
      "The Impact of Machines on Human Life\n",
      "The Role of Machines in Industry and Manufacturing\n",
      "How Machines are Revolutionizing the World of Work\n",
      "I can suggest more titles related to specific types of machines like robotics, artificial intelligence, computer vision, etc. Let me know if you are interested.\n"
     ]
    }
   ],
   "source": [
    "\n",
    "# Create a list of tuples, where each tuple contains the key and its similarity value\n",
    "data_list = [(key, value[0]) for key, value in similarity_dict.items()]\n",
    "\n",
    "# Sort the list by the similarity value in descending order (highest similarity first)\n",
    "data_list.sort(key=lambda x: x[1], reverse=True)\n",
    "\n",
    "for i, j in data_list[:5]:\n",
    "    print(i)\n",
    "# # Create a new dictionary with the sorted order\n",
    "# sorted_data = {key: value for key, value in data_list}\n",
    "\n",
    "# # Print the sorted dictionary\n",
    "# for key, value in sorted_data.items():\n",
    "#     print(key, value)"
   ]
  },
  {
   "cell_type": "code",
   "execution_count": null,
   "metadata": {},
   "outputs": [],
   "source": []
  }
 ],
 "metadata": {
  "kernelspec": {
   "display_name": "Python 3",
   "language": "python",
   "name": "python3"
  },
  "language_info": {
   "codemirror_mode": {
    "name": "ipython",
    "version": 3
   },
   "file_extension": ".py",
   "mimetype": "text/x-python",
   "name": "python",
   "nbconvert_exporter": "python",
   "pygments_lexer": "ipython3",
   "version": "3.11.5"
  }
 },
 "nbformat": 4,
 "nbformat_minor": 2
}
