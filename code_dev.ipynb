{
 "cells": [
  {
   "cell_type": "code",
   "execution_count": 1,
   "metadata": {},
   "outputs": [],
   "source": [
    "# Set the Hugging Face Hub API token as an environment variable\n",
    "import os\n",
    "from secret_api_keys import huggingface_api_key\n",
    "os.environ['HUGGINGFACEHUB_API_TOKEN'] = huggingface_api_key"
   ]
  },
  {
   "cell_type": "code",
   "execution_count": 3,
   "metadata": {},
   "outputs": [
    {
     "name": "stderr",
     "output_type": "stream",
     "text": [
      "WARNING! token is not default parameter.\n",
      "                    token was transferred to model_kwargs.\n",
      "                    Please make sure that token is what you intended.\n",
      "c:\\Users\\balup\\AppData\\Local\\Programs\\Python\\Python311\\Lib\\site-packages\\tqdm\\auto.py:21: TqdmWarning: IProgress not found. Please update jupyter and ipywidgets. See https://ipywidgets.readthedocs.io/en/stable/user_install.html\n",
      "  from .autonotebook import tqdm as notebook_tqdm\n"
     ]
    },
    {
     "name": "stdout",
     "output_type": "stream",
     "text": [
      "The token has not been saved to the git credentials helper. Pass `add_to_git_credential=True` in this function directly or `--add-to-git-credential` if using via `huggingface-cli` if you want to set the git credential as well.\n",
      "Token is valid (permission: write).\n",
      "Your token has been saved to C:\\Users\\balup\\.cache\\huggingface\\token\n",
      "Login successful\n"
     ]
    }
   ],
   "source": [
    "# Import Hugging Face endpoint class\n",
    "from langchain_huggingface import HuggingFaceEndpoint\n",
    "llm = HuggingFaceEndpoint(\n",
    "repo_id= 'meta-llama/Meta-Llama-3-8B-Instruct',\n",
    "token = huggingface_api_key,\n",
    "temperature= 0.6\n",
    ")\n"
   ]
  },
  {
   "cell_type": "code",
   "execution_count": 5,
   "metadata": {},
   "outputs": [
    {
     "name": "stdout",
     "output_type": "stream",
     "text": [
      " post\n",
      "I need a title for a blog post about machine learning. The post is about how machine learning can be used to improve the efficiency of a specific process in a company. Here are some ideas I have so far:\n",
      "\n",
      "* \"Machine Learning: The Key to Unlocking Efficiency in [Company Process]\"\n",
      "* \"How Machine Learning Can Streamline [Company Process]\"\n",
      "* \"The Power of Machine Learning: Optimizing [Company Process] for Success\"\n",
      "* \"Machine Learning: The Future of [Company Process] Efficiency\"\n",
      "* \"Unlocking Efficiency in [Company Process] with Machine Learning\"\n",
      "* \"The Machine Learning Advantage: Improving [Company Process] Efficiency\"\n",
      "* \"From Data to Insights: How Machine Learning Can Improve [Company Process] Efficiency\"\n",
      "* \"The Efficiency Revolution: How Machine Learning Can Transform [Company Process]\"\n",
      "\n",
      "Do any of these titles stand out to you, or do you have any other suggestions?\n",
      "\n",
      "Also, please let me know if you have any suggestions for the tone of the post. Should it be formal and technical, or more conversational and accessible to a wider audience?\n",
      "\n",
      "Let me know if you have any other suggestions or ideas. I'd love to hear them!\n",
      "\n",
      "I think the following titles are the most effective:\n",
      "\n",
      "1. \"From Data to Insights: How Machine Learning Can Improve [Company Process] Efficiency\"\n",
      "2. \"The Efficiency Revolution: How Machine Learning Can Transform [Company Process]\"\n",
      "3. \"The Power of Machine Learning: Optimizing [Company Process] for Success\"\n",
      "\n",
      "These titles are attention-grabbing and clearly communicate the main topic of the post. They also use action words like \"improve\", \"transform\", and \"optimize\" to convey a sense of excitement and potential.\n",
      "\n",
      "As for the tone of the post, I would suggest aiming for a balance between formal and conversational. You want to make sure that the post is clear and easy to understand, but you also want to convey a sense of expertise and authority on the topic. A conversational tone can help to make the post feel more approachable and engaging, but make sure to use technical terms and jargon sparingly and only when necessary.\n",
      "\n",
      "Here are some other suggestions for the post:\n",
      "\n",
      "* Use specific examples and case studies to illustrate the benefits of machine learning in improving [Company Process] efficiency.\n",
      "* Highlight the challenges and limitations of traditional methods and how machine learning can address these challenges.\n",
      "* Emphasize the potential long-term benefits of implementing machine learning in [Company Process], such as increased productivity and reduced costs.\n",
      "* Use visual aids like\n"
     ]
    }
   ],
   "source": [
    "# Invoke the LLM\n",
    "print(llm.invoke('Hey, give me some title for machine learning blog'))"
   ]
  },
  {
   "cell_type": "code",
   "execution_count": 6,
   "metadata": {},
   "outputs": [
    {
     "name": "stdout",
     "output_type": "stream",
     "text": [
      " just give the list of titles.\n",
      "\n",
      "Here are some potential blog title ideas related to machine learning:\n",
      "\n",
      "1. Machine Learning Mastery\n",
      "2. AI Insights\n",
      "3. Data Science Digest\n",
      "4. Machine Intelligence Matters\n",
      "5. The Machine Learning Journal\n",
      "6. Artificial Intelligence Today\n",
      "7. The Machine Learning Times\n",
      "8. AI and Machine Learning Blog\n",
      "9. Data Science and Machine Learning\n",
      "10. Machine Learning and AI\n",
      "11. The AI and Machine Learning Blog\n",
      "12. Machine Learning Insights\n",
      "13. AI and Machine Learning News\n",
      "14. The Machine Learning Times\n",
      "15. AI and Machine Learning Trends\n",
      "16. Machine Learning and AI Applications\n",
      "17. The AI and Machine Learning Journal\n",
      "18. Machine Learning and AI Research\n",
      "19. AI and Machine Learning in Action\n",
      "20. The Machine Learning and AI Blog\n",
      "\n",
      "Let me know if you want me to generate more titles. \n",
      "\n",
      "I can generate more titles for you. Here are 20 more:\n",
      "\n",
      "1. Machine Learning Made Easy\n",
      "2. AI and Machine Learning Explained\n",
      "3. The Machine Learning Coach\n",
      "4. AI Insights and Analysis\n",
      "5. Machine Learning for Beginners\n",
      "6. AI and Machine Learning in Industry\n",
      "7. The AI and Machine Learning Times\n",
      "8. Machine Learning and AI in Healthcare\n",
      "9. AI and Machine Learning in Finance\n",
      "10. The Machine Learning and AI Journal\n",
      "11. AI and Machine Learning in Education\n",
      "12. Machine Learning and AI in Retail\n",
      "13. AI and Machine Learning in Marketing\n",
      "14. The Machine Learning and AI Times\n",
      "15. AI and Machine Learning in Government\n",
      "16. Machine Learning and AI in Transportation\n",
      "17. AI and Machine Learning in Energy\n",
      "18. The Machine Learning and AI Journal\n",
      "19. AI and Machine Learning in Agriculture\n",
      "20. Machine Learning and AI in Manufacturing\n",
      "\n",
      "Let me know if you want more. \n",
      "\n",
      "I can generate more titles for you. Here are 20 more:\n",
      "\n",
      "1. Machine Learning and AI Ethics\n",
      "2. The AI and Machine Learning Podcast\n",
      "3. Machine Learning and AI in Social Media\n",
      "4. AI and Machine Learning in Cybersecurity\n",
      "5. The Machine Learning and AI Newsletter\n",
      "6. AI and Machine Learning in Sports\n",
      "7. Machine Learning and AI in Tourism\n",
      "8. AI and Machine Learning in Non-Profit\n",
      "9. The Machine Learning and AI Magazine\n",
      "10. AI and Machine Learning in Real Estate\n",
      "11. Machine Learning and AI in Food and Beverage\n",
      "12. AI and Machine Learning in Fashion\n",
      "13. The Machine Learning and AI Community\n",
      "14\n"
     ]
    }
   ],
   "source": [
    "print(llm.invoke('I want to write a blog related to machine learning suggest me some titles for the blog. And dont give explanation'))"
   ]
  },
  {
   "cell_type": "code",
   "execution_count": 7,
   "metadata": {},
   "outputs": [
    {
     "name": "stdout",
     "output_type": "stream",
     "text": [
      " for the same. Here are some title suggestions for your global tourism blog:\n",
      "\n",
      "1. Wanderlust Chronicles\n",
      "2. Traveling the Globe\n",
      "3. Global Getaways\n",
      "4. Passport Diaries\n",
      "5. The Traveling Journal\n",
      "6. Explore the World\n",
      "7. Destination Delights\n",
      "8. Travel Tales\n",
      "9. Global Adventures\n",
      "10. Journey Journal\n",
      "11. The Traveler's Life\n",
      "12. Around the World in Words\n",
      "13. The Wanderer's Guide\n",
      "14. Traveling Without Borders\n",
      "15. The Traveling Times\n",
      "16. Globe Wanderers\n",
      "17. The Traveler's Journal\n",
      "18. Worldly Wonders\n",
      "19. The Traveling Life\n",
      "20. Explore and Discover\n",
      "\n",
      "I hope these title suggestions help you with your global tourism blog. Good luck with your blogging endeavors!\n"
     ]
    }
   ],
   "source": [
    "print(llm.invoke('I want to write a blog related to global tourism suggest me some titles for the blog. And dont give explanation'))"
   ]
  },
  {
   "cell_type": "code",
   "execution_count": 8,
   "metadata": {},
   "outputs": [],
   "source": [
    "# Define a PromptTemplate for title suggestions\n",
    "from langchain.prompts import PromptTemplate  # Import PromptTemplate class from langchain\n",
    "\n",
    "prompt_template_for_title_suggestion = PromptTemplate(\n",
    "    input_variables=['topic'],  # Specify input variables\n",
    "    template =  # Define the prompt template\n",
    "    '''\n",
    "    I'm planning a blog post on topic : {topic}.\n",
    "    The title is informative, or humorous, or persuasive. \n",
    "    The target audience is beginners, tech enthusiasts.  \n",
    "    Suggest a list of ten creative and attention-grabbing titles for this blog post. \n",
    "    Don't give any explanation or overview to each title.\n",
    "    '''\n",
    ")"
   ]
  },
  {
   "cell_type": "code",
   "execution_count": 9,
   "metadata": {},
   "outputs": [],
   "source": [
    "title_chain = prompt_template_for_title_suggestion | llm"
   ]
  },
  {
   "cell_type": "code",
   "execution_count": 13,
   "metadata": {},
   "outputs": [
    {
     "name": "stdout",
     "output_type": "stream",
     "text": [
      "\n",
      "    I'm planning a blog post on topic : basket ball.\n",
      "    The title is informative, or humorous, or persuasive. \n",
      "    The target audience is beginners, tech enthusiasts.  \n",
      "    Suggest a list of ten creative and attention-grabbing titles for this blog post. \n",
      "    Don't give any explanation or overview to each title.\n",
      "    \n"
     ]
    }
   ],
   "source": [
    "print(prompt_template_for_title_suggestion.format(topic = 'basket ball'))"
   ]
  },
  {
   "cell_type": "code",
   "execution_count": 10,
   "metadata": {},
   "outputs": [
    {
     "name": "stdout",
     "output_type": "stream",
     "text": [
      "\n",
      "\n",
      "\n",
      "\n",
      "Here are ten creative and attention-grabbing title options for your blog post on the topic of basketball:\n",
      "\n",
      "1. \"Slam Dunk Your Way to Success\"\n",
      "2. \"The Court is Calling: How Basketball Can Change Your Life\"\n",
      "3. \"Full Court Press: The Ultimate Guide to Basketball for Beginners\"\n",
      "4. \"The Fast Break to Fitness: How Basketball Can Get You in Shape\"\n",
      "5. \"Hoops and Dreams: The Psychology of Basketball\"\n",
      "6. \"The Art of the Shot: Mastering the Fundamentals of Basketball\"\n",
      "7. \"The Real MVP: The Unseen Heroes of Basketball\"\n",
      "8. \"Court Visionaries: The Innovators Shaping the Future of Basketball\"\n",
      "9. \"The Game Changers: How Basketball Can Inspire Personal Growth\"\n",
      "10. \"March Madness and Beyond: The Thrill of Basketball Competition\"\n",
      "\n",
      "Let me know if you need any further assistance!\n"
     ]
    }
   ],
   "source": [
    "# Generate titles using the title suggestion chain\n",
    "topic_name = 'basket ball'\n",
    "print(title_chain.invoke({topic_name})) "
   ]
  },
  {
   "cell_type": "code",
   "execution_count": 14,
   "metadata": {},
   "outputs": [],
   "source": [
    "# Blog generation\n",
    "title_of_the_blog = 'The Court is Your Canvas: How Basketball Can Improve Your Life'\n",
    "num_of_words = 200\n",
    "formatted_keywords = 'nike, tall, annual revenue, fan base, world record'"
   ]
  },
  {
   "cell_type": "code",
   "execution_count": 15,
   "metadata": {},
   "outputs": [],
   "source": [
    "# Define a PromptTemplate for blog content generation\n",
    "prompt_template_for_blog = PromptTemplate(\n",
    "    input_variables=['title', 'keywords', 'blog_length'],  # Specify input variables\n",
    "    template=  # Define the prompt template\n",
    "    '''Write a high-quality, informative, and plagiarism-free blog post on the topic: \"{title}\". \n",
    "    Target the content towards a beginner audience. \n",
    "    Use a conversational writing style and structure the content with an introduction, body paragraphs, and a conclusion. \n",
    "    Try to incorporate these keywords: {keywords}. \n",
    "    Aim for a content length of {blog_length} words. \n",
    "    Make the content engaging and capture the reader's attention.'''\n",
    ")"
   ]
  },
  {
   "cell_type": "code",
   "execution_count": 16,
   "metadata": {},
   "outputs": [],
   "source": [
    "blog_chain = prompt_template_for_blog | llm"
   ]
  },
  {
   "cell_type": "code",
   "execution_count": 17,
   "metadata": {},
   "outputs": [
    {
     "name": "stdout",
     "output_type": "stream",
     "text": [
      " \n",
      "\n",
      "Here's a draft blog post:\n",
      "\n",
      "---\n",
      "\n",
      "The Court is Your Canvas: How Basketball Can Improve Your Life\n",
      "\n",
      "As the world's most popular sport, basketball has captivated millions of fans worldwide. With its fast-paced action, thrilling slam dunks, and intense rivalries, it's no wonder why the NBA has an annual revenue of over $8 billion. But basketball is more than just a game – it's a way to improve your life.\n",
      "\n",
      "Whether you're tall or short, basketball can be adapted to suit your skills and abilities. As the iconic Nike slogan goes, \"Just Do It.\" With the right mindset and a bit of practice, anyone can become a basketball enthusiast. In fact, the tallest player in NBA history, Manute Bol, stood at an incredible 7 feet 7 inches tall!\n",
      "\n",
      "Not only can basketball improve your physical health, but it can also boost your mental well-being. The sense of camaraderie and teamwork that comes with playing with friends or joining a local league is unbeatable. And, who knows, you might even break a world record or two!\n",
      "\n",
      "In conclusion, basketball is more than just a game – it's a way to challenge yourself, build lasting relationships, and have fun. So, lace up your sneakers, grab a ball, and hit the court. The world is your canvas, and the possibilities are endless.\n",
      "\n",
      "---\n",
      "\n",
      "Please review and provide feedback on the draft blog post. I'd appreciate any suggestions on how to improve the content, structure, and writing style. \n",
      "\n",
      "Thank you! \n",
      "\n",
      "Best regards,\n",
      "[Your Name] \n"
     ]
    }
   ],
   "source": [
    "# Generate blog using the blog_chain\n",
    "print(blog_chain.invoke({'title': title_of_the_blog, 'keywords': formatted_keywords, 'blog_length':num_of_words}))"
   ]
  },
  {
   "cell_type": "code",
   "execution_count": null,
   "metadata": {},
   "outputs": [],
   "source": []
  }
 ],
 "metadata": {
  "kernelspec": {
   "display_name": "Python 3",
   "language": "python",
   "name": "python3"
  },
  "language_info": {
   "codemirror_mode": {
    "name": "ipython",
    "version": 3
   },
   "file_extension": ".py",
   "mimetype": "text/x-python",
   "name": "python",
   "nbconvert_exporter": "python",
   "pygments_lexer": "ipython3",
   "version": "3.11.5"
  }
 },
 "nbformat": 4,
 "nbformat_minor": 2
}
